{
 "cells": [
  {
   "cell_type": "markdown",
   "metadata": {},
   "source": [
    "# Chapter 2 Exercises"
   ]
  },
  {
   "cell_type": "markdown",
   "metadata": {},
   "source": [
    "I did all the required exercises and fully understand them.\n",
    "The last optional one took a little but longer, but I think I figured that one out."
   ]
  },
  {
   "cell_type": "markdown",
   "metadata": {},
   "source": [
    "## 2.1 What Does This Code Do?\n",
    "\n",
    "x = 2\n",
    "\n",
    "y = 3"
   ]
  },
  {
   "cell_type": "markdown",
   "metadata": {},
   "source": [
    "**1. print('x =', x)**\n",
    "\n",
    "This will print out the string 'x =' followed by a space and then the value of x, which is 2.\n",
    "\n",
    "The final output should be: x = 2"
   ]
  },
  {
   "cell_type": "code",
   "execution_count": 4,
   "metadata": {},
   "outputs": [
    {
     "name": "stdout",
     "output_type": "stream",
     "text": [
      "x = 2\n"
     ]
    }
   ],
   "source": [
    "print('x =', x)"
   ]
  },
  {
   "cell_type": "markdown",
   "metadata": {},
   "source": [
    "**2. print('Value of', x, '+', x, 'is', (x + x))**\n",
    "\n",
    "This will print out the string 'Value of' followed by a space, then the value of x (which is 2), then a + sign, then the value of x again, then 'is', then the value of x+x, which is 4.\n",
    "\n",
    "The final output should be: Value of 2 + 2 is 4"
   ]
  },
  {
   "cell_type": "code",
   "execution_count": 5,
   "metadata": {},
   "outputs": [
    {
     "name": "stdout",
     "output_type": "stream",
     "text": [
      "Value of 2 + 2 is 4\n"
     ]
    }
   ],
   "source": [
    "print('Value of', x, '+', x, 'is', (x+x))"
   ]
  },
  {
   "cell_type": "markdown",
   "metadata": {},
   "source": [
    "**3. print('x =')**\n",
    "\n",
    "This will just print out the string 'x ='. The value of x won't be shown because x is in quotes.\n",
    "\n",
    "The final output should be: x ="
   ]
  },
  {
   "cell_type": "code",
   "execution_count": 6,
   "metadata": {},
   "outputs": [
    {
     "name": "stdout",
     "output_type": "stream",
     "text": [
      "x =\n"
     ]
    }
   ],
   "source": [
    "print('x =')"
   ]
  },
  {
   "cell_type": "markdown",
   "metadata": {},
   "source": [
    "**4. print((x + y), 'x =', (y + x))**\n",
    "\n",
    "This will print out the value of x + y, which is 5, followed by the string 'x =', and then the value of y + x, which is also 5.\n",
    "\n",
    "The final output should be: 5 x = 5"
   ]
  },
  {
   "cell_type": "code",
   "execution_count": 7,
   "metadata": {},
   "outputs": [
    {
     "name": "stdout",
     "output_type": "stream",
     "text": [
      "5 x = 5\n"
     ]
    }
   ],
   "source": [
    "print((x + y), 'x =', (y + x))"
   ]
  },
  {
   "cell_type": "markdown",
   "metadata": {},
   "source": [
    "## 2.2 What's Wrong with This Code?"
   ]
  },
  {
   "cell_type": "markdown",
   "metadata": {},
   "source": [
    "rating = input('Enter an integer rating between 1 and 10')\n",
    "\n",
    "The code is supposed to store an integer into rating, but input automatically stores everything as a string, so the value from input needs to be converted to an integer with the int() function.\n",
    "\n",
    "Correct code: rating = int(input('Enter an integer rating between 1 and 10'))"
   ]
  },
  {
   "cell_type": "code",
   "execution_count": 9,
   "metadata": {},
   "outputs": [
    {
     "name": "stdin",
     "output_type": "stream",
     "text": [
      "Enter an integer between 1 and 10 10\n"
     ]
    }
   ],
   "source": [
    "rating = int(input('Enter an integer between 1 and 10'))"
   ]
  },
  {
   "cell_type": "code",
   "execution_count": 10,
   "metadata": {},
   "outputs": [
    {
     "data": {
      "text/plain": [
       "int"
      ]
     },
     "execution_count": 10,
     "metadata": {},
     "output_type": "execute_result"
    }
   ],
   "source": [
    "type(rating)"
   ]
  },
  {
   "cell_type": "markdown",
   "metadata": {},
   "source": [
    "## 2.6 Odd or Even"
   ]
  },
  {
   "cell_type": "code",
   "execution_count": 2,
   "metadata": {},
   "outputs": [
    {
     "name": "stdout",
     "output_type": "stream",
     "text": [
      "5 is an odd integer.\n",
      "8 is an even integer.\n"
     ]
    }
   ],
   "source": [
    "int1 = 5\n",
    "int2 = 8\n",
    "\n",
    "if(int1 % 2 == 0):\n",
    "    print(int1, 'is an even integer.')\n",
    "    \n",
    "if(int1 % 2 != 0):\n",
    "    print(int1, 'is an odd integer.')\n",
    "    \n",
    "if(int2 % 2 == 0):\n",
    "    print(int2, 'is an even integer.')\n",
    "    \n",
    "if(int2 % 2 != 0):\n",
    "    print(int2, 'is an odd integer.')"
   ]
  },
  {
   "cell_type": "markdown",
   "metadata": {},
   "source": [
    "## 2.10 Arithmetic, Smallest and Largest"
   ]
  },
  {
   "cell_type": "code",
   "execution_count": null,
   "metadata": {},
   "outputs": [],
   "source": [
    "num1 = int(input('Enter your first integer: '))\n",
    "num2 = int(input('Enter your second integer: '))\n",
    "num3 = int(input('Enter your third integer: '))\n",
    "\n",
    "print('Sum of the three numbers:', num1 + num2 + num3)\n",
    "print('Average of the three numbers:', (num1 + num2 + num3) / 3)\n",
    "print('Product of the three numbers:', num1 * num2 * num3)\n",
    "print('Smallest of the three numbers:', min(num1, num2, num3))\n",
    "print('Largest of the three numbers:', max(num1, num2, num3))"
   ]
  },
  {
   "cell_type": "markdown",
   "metadata": {},
   "source": [
    "## 2.12 7% Investment Return"
   ]
  },
  {
   "cell_type": "code",
   "execution_count": null,
   "metadata": {},
   "outputs": [],
   "source": [
    "p = 1000\n",
    "r = 0.07\n",
    "n = 10\n",
    "# a = p * (1 + r) ** n\n",
    "\n",
    "print('Your amount on deposit at the end of year', n, ': $', p * (1 + r) ** n)\n",
    "\n",
    "n = 20\n",
    "print('Your amount on deposit at the end of year', n, ': $', p * (1 + r) ** n)\n",
    "\n",
    "n = 30\n",
    "print('Your amount on deposit at the end of year', n, ': $', p * (1 + r) ** n)"
   ]
  },
  {
   "cell_type": "markdown",
   "metadata": {},
   "source": [
    "## 2.13 How Big Can Python Integers Be?"
   ]
  },
  {
   "cell_type": "code",
   "execution_count": 19,
   "metadata": {},
   "outputs": [
    {
     "data": {
      "text/plain": [
       "10000000000"
      ]
     },
     "execution_count": 19,
     "metadata": {},
     "output_type": "execute_result"
    }
   ],
   "source": [
    "number = 10 ** 10\n",
    "number"
   ]
  },
  {
   "cell_type": "code",
   "execution_count": 20,
   "metadata": {},
   "outputs": [
    {
     "data": {
      "text/plain": [
       "10000000000000000000000000000000000000000000000000000000000000000000000000000000000000000000000000000"
      ]
     },
     "execution_count": 20,
     "metadata": {},
     "output_type": "execute_result"
    }
   ],
   "source": [
    "number = 10 ** 100\n",
    "number"
   ]
  },
  {
   "cell_type": "code",
   "execution_count": 22,
   "metadata": {},
   "outputs": [
    {
     "data": {
      "text/plain": [
       "10000000000000000000000000000000000000000000000000000000000000000000000000000000000000000000000000000000000000000000000000000000000000000000000000000000000000000000000000000000000000000000000000000000000000000000000000000000000000000000000000000000000000000000000000000000000000000000000000000000000000000000000000000000000000000000000000000000000000000000000000000000000000000000000000000000000000000000000000000000000000000000000000000000000000000000000000000000000000000000000000000000000000000000000000000000000000000000000000000000000000000000000000000000000000000000000000000000000000000000000000000000000000000000000000000000000000000000000000000000000000000000000000000000000000000000000000000000000000000000000000000000000000000000000000000000000000000000000000000000000000000000000000000000000000000000000000000000000000000000000000000000000000000000000000000000000000000000000000000000000000000000000000000000000000000000000000000000000000000000000000000000000000000000000000000000000000000"
      ]
     },
     "execution_count": 22,
     "metadata": {},
     "output_type": "execute_result"
    }
   ],
   "source": [
    "number = 10 ** 1000\n",
    "number"
   ]
  },
  {
   "cell_type": "markdown",
   "metadata": {},
   "source": [
    "## (Optional) 2.11 Separating Digits in an Integer"
   ]
  },
  {
   "cell_type": "code",
   "execution_count": null,
   "metadata": {},
   "outputs": [],
   "source": [
    "five_digit = int(input('Enter a five-digit number: '))\n",
    "\n",
    "digit_1 = five_digit // 10000\n",
    "digit_2 = (five_digit % (digit_1 * 10000)) // 1000\n",
    "digit_3 = (five_digit %  (digit_1 * 10000 + digit_2 * 1000)) // 100\n",
    "digit_4 = (five_digit %  (digit_1 * 10000 + digit_2 * 1000 + digit_3 * 100)) // 10\n",
    "digit_5 = (five_digit %  (digit_1 * 10000 + digit_2 * 1000 + digit_3 * 100 + digit_4 * 10))\n",
    "\n",
    "print(digit_1, digit_2, digit_3, digit_4, digit_5)"
   ]
  }
 ],
 "metadata": {
  "kernelspec": {
   "display_name": "Python 3",
   "language": "python",
   "name": "python3"
  },
  "language_info": {
   "codemirror_mode": {
    "name": "ipython",
    "version": 3
   },
   "file_extension": ".py",
   "mimetype": "text/x-python",
   "name": "python",
   "nbconvert_exporter": "python",
   "pygments_lexer": "ipython3",
   "version": "3.8.3"
  }
 },
 "nbformat": 4,
 "nbformat_minor": 4
}
