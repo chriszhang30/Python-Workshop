{
 "cells": [
  {
   "cell_type": "markdown",
   "metadata": {},
   "source": [
    "# Ch. 4 Exercises"
   ]
  },
  {
   "cell_type": "markdown",
   "metadata": {},
   "source": [
    "I understood this chapter pretty clearly and was able to complete the questions without much difficulty."
   ]
  },
  {
   "cell_type": "markdown",
   "metadata": {},
   "source": [
    "## 4.3 What's Wrong with This Code?\n",
    "\n",
    "```python\n",
    "def cube(x):\n",
    "    \"\"\"Calculate the cube of x.\"\"\"\n",
    "    x ** 3\n",
    "print('The cube of 2 is', cube(2))\n",
    "```"
   ]
  },
  {
   "cell_type": "markdown",
   "metadata": {},
   "source": [
    "The cube function defined here doesn't return any value, so calling cube(2) in the print function will return nothing. To fix this, the last line in the function block after x** 3 should be return x.\n"
   ]
  },
  {
   "cell_type": "markdown",
   "metadata": {},
   "source": [
    "## 4.9 Data Science: Temperature Conversion\n",
    "\n",
    "Implement a fahrenheit function that returns the Fahrenheit equivalent of a Celsius temperature.\n",
    "Use this function to print a chart showing Farhenheit equivalents of all Celsius temperatures in the range 0-100 degrees. Use one digit of precision for the results."
   ]
  },
  {
   "cell_type": "code",
   "execution_count": 16,
   "metadata": {},
   "outputs": [
    {
     "name": "stdout",
     "output_type": "stream",
     "text": [
      "Celsius    Fahrenheit\n",
      "----------------------\n",
      "      0          32.0\n",
      "      1          33.8\n",
      "      2          35.6\n",
      "      3          37.4\n",
      "      4          39.2\n",
      "      5          41.0\n",
      "      6          42.8\n",
      "      7          44.6\n",
      "      8          46.4\n",
      "      9          48.2\n",
      "     10          50.0\n",
      "     11          51.8\n",
      "     12          53.6\n",
      "     13          55.4\n",
      "     14          57.2\n",
      "     15          59.0\n",
      "     16          60.8\n",
      "     17          62.6\n",
      "     18          64.4\n",
      "     19          66.2\n",
      "     20          68.0\n",
      "     21          69.8\n",
      "     22          71.6\n",
      "     23          73.4\n",
      "     24          75.2\n",
      "     25          77.0\n",
      "     26          78.8\n",
      "     27          80.6\n",
      "     28          82.4\n",
      "     29          84.2\n",
      "     30          86.0\n",
      "     31          87.8\n",
      "     32          89.6\n",
      "     33          91.4\n",
      "     34          93.2\n",
      "     35          95.0\n",
      "     36          96.8\n",
      "     37          98.6\n",
      "     38         100.4\n",
      "     39         102.2\n",
      "     40         104.0\n",
      "     41         105.8\n",
      "     42         107.6\n",
      "     43         109.4\n",
      "     44         111.2\n",
      "     45         113.0\n",
      "     46         114.8\n",
      "     47         116.6\n",
      "     48         118.4\n",
      "     49         120.2\n",
      "     50         122.0\n",
      "     51         123.8\n",
      "     52         125.6\n",
      "     53         127.4\n",
      "     54         129.2\n",
      "     55         131.0\n",
      "     56         132.8\n",
      "     57         134.6\n",
      "     58         136.4\n",
      "     59         138.2\n",
      "     60         140.0\n",
      "     61         141.8\n",
      "     62         143.6\n",
      "     63         145.4\n",
      "     64         147.2\n",
      "     65         149.0\n",
      "     66         150.8\n",
      "     67         152.6\n",
      "     68         154.4\n",
      "     69         156.2\n",
      "     70         158.0\n",
      "     71         159.8\n",
      "     72         161.6\n",
      "     73         163.4\n",
      "     74         165.2\n",
      "     75         167.0\n",
      "     76         168.8\n",
      "     77         170.6\n",
      "     78         172.4\n",
      "     79         174.2\n",
      "     80         176.0\n",
      "     81         177.8\n",
      "     82         179.6\n",
      "     83         181.4\n",
      "     84         183.2\n",
      "     85         185.0\n",
      "     86         186.8\n",
      "     87         188.6\n",
      "     88         190.4\n",
      "     89         192.2\n",
      "     90         194.0\n",
      "     91         195.8\n",
      "     92         197.6\n",
      "     93         199.4\n",
      "     94         201.2\n",
      "     95         203.0\n",
      "     96         204.8\n",
      "     97         206.6\n",
      "     98         208.4\n",
      "     99         210.2\n",
      "    100         212.0\n"
     ]
    }
   ],
   "source": [
    "def fahrenheit(celsius):\n",
    "    \"\"\"Calculates the Fahrenheit equivalent of a given Celsius degree.\"\"\"\n",
    "    f = (9 / 5) * celsius + 32\n",
    "    return f\n",
    "\n",
    "#table header\n",
    "print('Celsius    Fahrenheit')\n",
    "print('----------------------')\n",
    "\n",
    "#print celsius and fahrenheit degrees\n",
    "for degree in range(101):\n",
    "    print(f'{degree:>7}    {fahrenheit(degree):>10.1f}')"
   ]
  },
  {
   "cell_type": "markdown",
   "metadata": {},
   "source": [
    "## 4.14 Computer-Assisted Instruction"
   ]
  },
  {
   "cell_type": "markdown",
   "metadata": {},
   "source": [
    "Write a script to help an elementary school student learn multiplication. Create a function that randomly generates and returns a tuple of two positive one-digit integers. Use that function's result in your script to prompt the user with a question, such as \"How much is 6 times 7?\""
   ]
  },
  {
   "cell_type": "code",
   "execution_count": 1,
   "metadata": {},
   "outputs": [
    {
     "name": "stdout",
     "output_type": "stream",
     "text": [
      "How much is 10 times 5 ?\n"
     ]
    },
    {
     "name": "stdin",
     "output_type": "stream",
     "text": [
      " 5\n"
     ]
    },
    {
     "name": "stdout",
     "output_type": "stream",
     "text": [
      "No. Please Try again\n",
      "How much is 10 times 5 ?\n"
     ]
    },
    {
     "name": "stdin",
     "output_type": "stream",
     "text": [
      " 50\n"
     ]
    },
    {
     "name": "stdout",
     "output_type": "stream",
     "text": [
      "Very good!\n",
      "How much is 5 times 1 ?\n"
     ]
    },
    {
     "name": "stdin",
     "output_type": "stream",
     "text": [
      " 5\n"
     ]
    },
    {
     "name": "stdout",
     "output_type": "stream",
     "text": [
      "Very good!\n",
      "How much is 3 times 2 ?\n"
     ]
    },
    {
     "name": "stdin",
     "output_type": "stream",
     "text": [
      " 5\n"
     ]
    },
    {
     "name": "stdout",
     "output_type": "stream",
     "text": [
      "No. Please Try again\n",
      "How much is 3 times 2 ?\n"
     ]
    },
    {
     "name": "stdin",
     "output_type": "stream",
     "text": [
      " 6\n"
     ]
    },
    {
     "name": "stdout",
     "output_type": "stream",
     "text": [
      "Very good!\n",
      "How much is 10 times 7 ?\n"
     ]
    },
    {
     "name": "stdin",
     "output_type": "stream",
     "text": [
      " -1\n"
     ]
    }
   ],
   "source": [
    "import random\n",
    "\n",
    "# produce two random integers for elementary multiplication\n",
    "def random_int():\n",
    "    \"\"\"Produces two random integers for elementary multiplication.\"\"\"\n",
    "    return (random.randint(0, 10), random.randint(0, 10))\n",
    "\n",
    "# checks input answer to the actual product\n",
    "def check_answer(int_tuple, answer):\n",
    "    \"\"\"Checks if user input is the correct answer for the multiplication problem.\"\"\"\n",
    "    if(answer != int_tuple[0] * int_tuple[1]):\n",
    "        return False\n",
    "    else:\n",
    "        return True\n",
    "\n",
    "# initialize first product\n",
    "mults = random_int()\n",
    "print('How much is', mults[0], 'times', mults[1], '?')\n",
    "answer = int(input())\n",
    "\n",
    "# loop for repeated questions\n",
    "while answer != -1:\n",
    "    if(check_answer(mults, answer) == True):\n",
    "        print('Very good!')\n",
    "        mults = random_int()\n",
    "        print('How much is', mults[0], 'times', mults[1], '?')\n",
    "        answer = int(input())\n",
    "        check_answer(mults, answer)\n",
    "    else:\n",
    "        print('No. Please Try again')\n",
    "        print('How much is', mults[0], 'times', mults[1], '?')\n",
    "        answer = int(input())\n",
    "        check_answer(mults, answer)\n"
   ]
  }
 ],
 "metadata": {
  "kernelspec": {
   "display_name": "Python 3",
   "language": "python",
   "name": "python3"
  },
  "language_info": {
   "codemirror_mode": {
    "name": "ipython",
    "version": 3
   },
   "file_extension": ".py",
   "mimetype": "text/x-python",
   "name": "python",
   "nbconvert_exporter": "python",
   "pygments_lexer": "ipython3",
   "version": "3.8.3"
  }
 },
 "nbformat": 4,
 "nbformat_minor": 4
}
