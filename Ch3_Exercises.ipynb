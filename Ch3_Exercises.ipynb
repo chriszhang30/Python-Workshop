{
 "cells": [
  {
   "cell_type": "markdown",
   "metadata": {},
   "source": [
    "# CHAPTER 3 EXERCISES -- Chris Zhang\n",
    "\n",
    "---"
   ]
  },
  {
   "cell_type": "markdown",
   "metadata": {},
   "source": [
    "*Comments:* I understood and could figure out every exercise, but 3.17 took a while longer for me to solve."
   ]
  },
  {
   "cell_type": "markdown",
   "metadata": {},
   "source": [
    "## 3.3 What Does This Code Do?\n",
    "\n",
    "`for row in range(10):\n",
    "    for column in range(10):\n",
    "        print('<' if row % 2 == 1 else '>', end='')\n",
    "    print()`"
   ]
  },
  {
   "cell_type": "markdown",
   "metadata": {},
   "source": [
    "**Answer:** This code iterates over 10 rows and columns, The first for loop starts at row = 0 then jumps to the column for loop, where column starts at 0 as well. Then the print statement executes, where a '<' is printed if the value of row is an odd number (or if the actual row number is even). If the value of row is even, then it prints a '>'. The print statement makes sure carrots are printed next to each other with the end='' argument. This loop continues for all column values up to, but not including 10. The column for loop then exits, and an empty print() statement is called to go to a new line/row. The row for loop then iterates to the next number, and the process of printing '<' or '>' is repeated until the value of row reaches 10."
   ]
  },
  {
   "cell_type": "code",
   "execution_count": 5,
   "metadata": {},
   "outputs": [
    {
     "name": "stdout",
     "output_type": "stream",
     "text": [
      ">>>>>>>>>>\n",
      "<<<<<<<<<<\n",
      ">>>>>>>>>>\n",
      "<<<<<<<<<<\n",
      ">>>>>>>>>>\n",
      "<<<<<<<<<<\n",
      ">>>>>>>>>>\n",
      "<<<<<<<<<<\n",
      ">>>>>>>>>>\n",
      "<<<<<<<<<<\n"
     ]
    }
   ],
   "source": [
    "for row in range(10):\n",
    "    for column in range(10):\n",
    "        print('<' if row % 2 == 1 else '>', end='')\n",
    "    print()"
   ]
  },
  {
   "cell_type": "markdown",
   "metadata": {},
   "source": [
    "## 3.10 7% Investment Return\n",
    "\n",
    "Reimplement Exercise 2.12 to use a loop that calculates and displays the amount of money you'll have each year at the ends of years 1 through 30\n",
    "\n",
    "**Exercise 2.12:** Assuming that you begin with $1000, a 7% rate of return and leave your money invested, calculate and display how much money you'll have after 10, 20 and 30 years. Use the following formula: a = p(1 + r)^n \n",
    "\n",
    "where p = original amount invested (principal)\n",
    "\n",
    "r = annual rate of return\n",
    "\n",
    "n = number of years\n",
    "\n",
    "a = amount on deposit at end of nth year\n"
   ]
  },
  {
   "cell_type": "code",
   "execution_count": 11,
   "metadata": {},
   "outputs": [
    {
     "name": "stdout",
     "output_type": "stream",
     "text": [
      "Year  1: 1070.00\n",
      "Year  2: 1144.90\n",
      "Year  3: 1225.04\n",
      "Year  4: 1310.80\n",
      "Year  5: 1402.55\n",
      "Year  6: 1500.73\n",
      "Year  7: 1605.78\n",
      "Year  8: 1718.19\n",
      "Year  9: 1838.46\n",
      "Year 10: 1967.15\n",
      "Year 11: 2104.85\n",
      "Year 12: 2252.19\n",
      "Year 13: 2409.85\n",
      "Year 14: 2578.53\n",
      "Year 15: 2759.03\n",
      "Year 16: 2952.16\n",
      "Year 17: 3158.82\n",
      "Year 18: 3379.93\n",
      "Year 19: 3616.53\n",
      "Year 20: 3869.68\n",
      "Year 21: 4140.56\n",
      "Year 22: 4430.40\n",
      "Year 23: 4740.53\n",
      "Year 24: 5072.37\n",
      "Year 25: 5427.43\n",
      "Year 26: 5807.35\n",
      "Year 27: 6213.87\n",
      "Year 28: 6648.84\n",
      "Year 29: 7114.26\n",
      "Year 30: 7612.26\n"
     ]
    }
   ],
   "source": [
    "# Initialization\n",
    "\n",
    "p = 1000\n",
    "r = 0.07\n",
    "a = 0\n",
    "\n",
    "# Processing\n",
    "for year in range(1, 31):\n",
    "    print(f'Year {year:>2}: {p * (1 + r) ** year:.2f}')\n"
   ]
  },
  {
   "cell_type": "markdown",
   "metadata": {},
   "source": [
    "## 3.13 Factorials"
   ]
  },
  {
   "cell_type": "code",
   "execution_count": 3,
   "metadata": {},
   "outputs": [
    {
     "name": "stdin",
     "output_type": "stream",
     "text": [
      "Enter a number to calculate its factorial:  0\n"
     ]
    },
    {
     "name": "stdout",
     "output_type": "stream",
     "text": [
      "The factorial of 0 is 1\n"
     ]
    }
   ],
   "source": [
    "factorial = 1\n",
    "number = int(input('Enter a number to calculate its factorial: '))\n",
    "\n",
    "for value in range(number, 0, -1):\n",
    "    factorial *= value\n",
    "    \n",
    "print(f'The factorial of {number} is {factorial}')"
   ]
  },
  {
   "cell_type": "markdown",
   "metadata": {},
   "source": [
    "## 3.31 Categorical Data"
   ]
  },
  {
   "cell_type": "markdown",
   "metadata": {},
   "source": [
    "For categorical data like Boxer, Poodle, Collie, Beagle, Bulldog, the only descriptive statistics that would appropriate would be mode to count the most common category."
   ]
  },
  {
   "cell_type": "markdown",
   "metadata": {},
   "source": [
    "## 3.23 Validating Indentation"
   ]
  },
  {
   "cell_type": "markdown",
   "metadata": {},
   "source": [
    "If the second print statement's indentation doesn't match that of the first print statement, then an IndentationError will be returned claiming the indentations don't match. The indentations within the if statement must be the same.\n",
    "\n",
    "Executing the command in Terimnal produces the following error:\n",
    "    \n",
    "Indentation Error: unindent does not match any outer indentation level (<tokenize>, line 6)"
   ]
  },
  {
   "cell_type": "markdown",
   "metadata": {},
   "source": [
    "## 3.17 Nested Loops"
   ]
  },
  {
   "cell_type": "code",
   "execution_count": 2,
   "metadata": {},
   "outputs": [
    {
     "name": "stdout",
     "output_type": "stream",
     "text": [
      "\n",
      "*\n",
      "**\n",
      "***\n",
      "****\n",
      "*****\n",
      "******\n",
      "*******\n",
      "********\n",
      "*********\n",
      "**********\n",
      "\n",
      "**********\n",
      "*********\n",
      "********\n",
      "*******\n",
      "******\n",
      "*****\n",
      "****\n",
      "***\n",
      "**\n",
      "*\n",
      "\n",
      "**********\n",
      " *********\n",
      "  ********\n",
      "   *******\n",
      "    ******\n",
      "     *****\n",
      "      ****\n",
      "       ***\n",
      "        **\n",
      "         *\n",
      "\n",
      "          \n",
      "         *\n",
      "        **\n",
      "       ***\n",
      "      ****\n",
      "     *****\n",
      "    ******\n",
      "   *******\n",
      "  ********\n",
      " *********\n",
      "**********\n",
      "\n"
     ]
    }
   ],
   "source": [
    "# triangle A\n",
    "for row in range(0, 11):\n",
    "    for col in range(0, row):\n",
    "        print('*', end='')\n",
    "    print()\n",
    "print()\n",
    "\n",
    "\n",
    "# triangle B\n",
    "for row in range(10, 0, -1):\n",
    "    for col in range(row, 0, -1):\n",
    "        print('*', end='')\n",
    "    print()\n",
    "print()\n",
    "\n",
    "\n",
    "#triangle C\n",
    "for row in range(10, 0, -1):\n",
    "    for space in range(10 - row):\n",
    "        print(' ', end='')\n",
    "    for col in range(row, 0, -1):\n",
    "        print('*', end='')\n",
    "    print()\n",
    "print()\n",
    "\n",
    "\n",
    "#triangle D\n",
    "for row in range(0, 11):\n",
    "    for space in range(10 - row):\n",
    "        print(' ', end='')\n",
    "    for col in range(0, row):\n",
    "        print('*', end='')\n",
    "    print()\n",
    "print()"
   ]
  },
  {
   "cell_type": "markdown",
   "metadata": {},
   "source": [
    "## (OPTIONAL) 3.14 Math Challenge: Approximating Pi"
   ]
  },
  {
   "cell_type": "code",
   "execution_count": 70,
   "metadata": {},
   "outputs": [
    {
     "name": "stdin",
     "output_type": "stream",
     "text": [
      "Enter number of terms to estimate Pi:  500000\n"
     ]
    },
    {
     "name": "stdout",
     "output_type": "stream",
     "text": [
      "Pi estimate with 500000 terms is: 3.141590653589692\n"
     ]
    }
   ],
   "source": [
    "terms = int(input('Enter number of terms to estimate Pi: '))\n",
    "pi = 0\n",
    "\n",
    "for term in range(1, terms + 1):\n",
    "    if(term % 2 == 0):\n",
    "        pi -= (4 / (1 + 2 * (term - 1)))\n",
    "    else:\n",
    "        pi += (4 / (1 + 2 * (term - 1)))\n",
    "\n",
    "print(f'Pi estimate with {terms} terms is: {pi}')"
   ]
  },
  {
   "cell_type": "markdown",
   "metadata": {},
   "source": [
    "## 3.18 Challenge: Nested Looping"
   ]
  },
  {
   "cell_type": "code",
   "execution_count": 134,
   "metadata": {},
   "outputs": [
    {
     "name": "stdout",
     "output_type": "stream",
     "text": [
      "*            **********    **********            *\n",
      "**           *********      *********           **\n",
      "***          ********        ********          ***\n",
      "****         *******          *******         ****\n",
      "*****        ******            ******        *****\n",
      "******       *****              *****       ******\n",
      "*******      ****                ****      *******\n",
      "********     ***                  ***     ********\n",
      "*********    **                    **    *********\n",
      "**********   *                      *   **********\n"
     ]
    }
   ],
   "source": [
    "# triangle A\n",
    "for row_A in range(1, 11):\n",
    "    for col_A in range(row_A):\n",
    "        print('*', end='')\n",
    "    for space_A in range(13 - row_A, 0, -1):\n",
    "        print(' ', end='')\n",
    "        \n",
    "    #triangle B\n",
    "    for col_B in range(11, row_A, -1):\n",
    "        print('*', end='') \n",
    "    for space_B in range(13 - col_B, 14):\n",
    "        print(' ', end='')\n",
    "    \n",
    "    #triangle C\n",
    "    for space_C in range(0, row_A):\n",
    "        print(' ', end='')\n",
    "    for col_C in range(11, row_A, -1):\n",
    "        print('*', end='')\n",
    "    for space_C in range(3):\n",
    "        print(' ', end='')\n",
    "    \n",
    "    #triangle D\n",
    "    for space in range(10 - row_A):\n",
    "        print(' ', end='')\n",
    "    for col_D in range(row_A, 0, -1):\n",
    "        print('*', end='')\n",
    "\n",
    "    print()"
   ]
  }
 ],
 "metadata": {
  "kernelspec": {
   "display_name": "Python 3",
   "language": "python",
   "name": "python3"
  },
  "language_info": {
   "codemirror_mode": {
    "name": "ipython",
    "version": 3
   },
   "file_extension": ".py",
   "mimetype": "text/x-python",
   "name": "python",
   "nbconvert_exporter": "python",
   "pygments_lexer": "ipython3",
   "version": "3.8.3"
  }
 },
 "nbformat": 4,
 "nbformat_minor": 4
}
